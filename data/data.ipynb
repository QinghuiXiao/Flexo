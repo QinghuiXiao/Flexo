{
 "cells": [
  {
   "cell_type": "code",
   "execution_count": 1,
   "metadata": {
    "collapsed": true
   },
   "outputs": [],
   "source": [
    "import numpy as np\n",
    "import scipy.io as sio\n",
    "\n",
    "# 定义平面边界的范围\n",
    "x_range = (0, 50)\n",
    "y_range = (0, 50)\n",
    "\n",
    "# 在 x 范围上均匀取 100 个点\n",
    "x_points = np.linspace(x_range[0], x_range[1], num=101)\n",
    "\n",
    "# 在 y 范围上均匀取 100 个点\n",
    "y_points = np.linspace(y_range[0], y_range[1], num=101)\n",
    "\n",
    "# 组合 x 和 y 的点坐标\n",
    "points = np.concatenate((np.column_stack([x_points, np.full_like(x_points, y_range[0])]),\n",
    "                         np.column_stack([x_points, np.full_like(x_points, y_range[1])]),\n",
    "                         np.column_stack([np.full_like(y_points, x_range[0]), y_points]),\n",
    "                         np.column_stack([np.full_like(y_points, x_range[1]), y_points])))\n",
    "\n",
    "# 保留边界上的 400 个点\n",
    "boundary_points = points[np.random.choice(points.shape[0], size=401, replace=False)]\n",
    "\n",
    "# 创建 MATLAB 的结构体数据\n",
    "data = {\n",
    "    'points': boundary_points\n",
    "}\n",
    "\n",
    "# 保存数据到 .mat 文件\n",
    "sio.savemat('dataFB.mat', data)"
   ]
  },
  {
   "cell_type": "code",
   "execution_count": 2,
   "metadata": {
    "collapsed": true
   },
   "outputs": [],
   "source": [
    "import numpy as np\n",
    "import scipy.io\n",
    "\n",
    "x = np.linspace(0, 50, 101)\n",
    "y = np.linspace(0, 50, 101)\n",
    "x_grid, y_grid = np.meshgrid(x, y)\n",
    "\n",
    "FX_2d = np.concatenate((x_grid.flatten()[:,None], y_grid.flatten()[:,None]), axis=1)\n",
    "\n",
    "# Save x_grid and y_grid to a .mat file\n",
    "scipy.io.savemat('dataF.mat', {'FX_2d':FX_2d})"
   ]
  },
  {
   "cell_type": "code",
   "execution_count": null,
   "metadata": {
    "collapsed": true
   },
   "outputs": [],
   "source": []
  }
 ],
 "metadata": {
  "kernelspec": {
   "display_name": "Python PyTorch",
   "language": "python",
   "name": "pytorch"
  },
  "language_info": {
   "codemirror_mode": {
    "name": "ipython",
    "version": 3
   },
   "file_extension": ".py",
   "mimetype": "text/x-python",
   "name": "python",
   "nbconvert_exporter": "python",
   "pygments_lexer": "ipython3",
   "version": "3.6.13"
  }
 },
 "nbformat": 4,
 "nbformat_minor": 2
}
